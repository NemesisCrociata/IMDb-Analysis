{
 "cells": [
  {
   "cell_type": "markdown",
   "id": "e306091d",
   "metadata": {},
   "source": [
    "# IMDb Movie Analysis - Cleaning"
   ]
  },
  {
   "cell_type": "markdown",
   "id": "a3145bd5",
   "metadata": {},
   "source": [
    "![jpg](Images/tmdb-logo.jpg)"
   ]
  },
  {
   "cell_type": "markdown",
   "id": "47e6b2f3",
   "metadata": {},
   "source": [
    "## Data Dictionaries"
   ]
  },
  {
   "cell_type": "markdown",
   "id": "2827d352",
   "metadata": {},
   "source": [
    "**Title AKAs**\n",
    "\n",
    "![jpg](Images/title-akas-dict.jpg)"
   ]
  },
  {
   "cell_type": "markdown",
   "id": "57e03911",
   "metadata": {},
   "source": [
    "**Title Basics**\n",
    "\n",
    "![jpg](Images/title-basics-dict.jpg)"
   ]
  },
  {
   "cell_type": "markdown",
   "id": "027a9396",
   "metadata": {},
   "source": [
    "**Title Ratings**\n",
    "\n",
    "![jpg](Images/title-ratings-dict.jpg)"
   ]
  },
  {
   "cell_type": "markdown",
   "id": "70d8d95f",
   "metadata": {},
   "source": [
    "## Importing the Data"
   ]
  },
  {
   "cell_type": "code",
   "execution_count": 1,
   "id": "a7f7fd2c",
   "metadata": {},
   "outputs": [],
   "source": [
    "# Importing Pandas to read and adjust the CSV files\n",
    "import pandas as pd\n",
    "\n",
    "# Importing Numpy to adjust the null values\n",
    "import numpy as np"
   ]
  },
  {
   "cell_type": "code",
   "execution_count": 2,
   "id": "f3db5f95",
   "metadata": {},
   "outputs": [],
   "source": [
    "# The original .tsv and .csv files were uploaded to the Data folder\n",
    "# These files are read as Pandas dataframes\n",
    "\n",
    "akas = pd.read_csv('Data/title-akas-us-only.csv', low_memory=False)\n",
    "\n",
    "basics = pd.read_csv('Data/title-basics.tsv', sep='\\t', low_memory=False)\n",
    "\n",
    "ratings = pd.read_csv('Data/title-ratings.tsv', sep='\\t', low_memory=False)"
   ]
  },
  {
   "cell_type": "markdown",
   "id": "b5d8f816",
   "metadata": {},
   "source": [
    "## Cleaning the Data"
   ]
  },
  {
   "cell_type": "markdown",
   "id": "45c97955",
   "metadata": {},
   "source": [
    "### AKAs"
   ]
  },
  {
   "cell_type": "code",
   "execution_count": 3,
   "id": "a0a3cddd",
   "metadata": {},
   "outputs": [
    {
     "data": {
      "text/html": [
       "<div>\n",
       "<style scoped>\n",
       "    .dataframe tbody tr th:only-of-type {\n",
       "        vertical-align: middle;\n",
       "    }\n",
       "\n",
       "    .dataframe tbody tr th {\n",
       "        vertical-align: top;\n",
       "    }\n",
       "\n",
       "    .dataframe thead th {\n",
       "        text-align: right;\n",
       "    }\n",
       "</style>\n",
       "<table border=\"1\" class=\"dataframe\">\n",
       "  <thead>\n",
       "    <tr style=\"text-align: right;\">\n",
       "      <th></th>\n",
       "      <th>titleId</th>\n",
       "      <th>ordering</th>\n",
       "      <th>title</th>\n",
       "      <th>region</th>\n",
       "      <th>language</th>\n",
       "      <th>types</th>\n",
       "      <th>attributes</th>\n",
       "      <th>isOriginalTitle</th>\n",
       "    </tr>\n",
       "  </thead>\n",
       "  <tbody>\n",
       "    <tr>\n",
       "      <th>0</th>\n",
       "      <td>tt0000001</td>\n",
       "      <td>6</td>\n",
       "      <td>Carmencita</td>\n",
       "      <td>US</td>\n",
       "      <td>\\N</td>\n",
       "      <td>imdbDisplay</td>\n",
       "      <td>\\N</td>\n",
       "      <td>0</td>\n",
       "    </tr>\n",
       "    <tr>\n",
       "      <th>1</th>\n",
       "      <td>tt0000002</td>\n",
       "      <td>7</td>\n",
       "      <td>The Clown and His Dogs</td>\n",
       "      <td>US</td>\n",
       "      <td>\\N</td>\n",
       "      <td>\\N</td>\n",
       "      <td>literal English title</td>\n",
       "      <td>0</td>\n",
       "    </tr>\n",
       "    <tr>\n",
       "      <th>2</th>\n",
       "      <td>tt0000005</td>\n",
       "      <td>10</td>\n",
       "      <td>Blacksmith Scene</td>\n",
       "      <td>US</td>\n",
       "      <td>\\N</td>\n",
       "      <td>imdbDisplay</td>\n",
       "      <td>\\N</td>\n",
       "      <td>0</td>\n",
       "    </tr>\n",
       "    <tr>\n",
       "      <th>3</th>\n",
       "      <td>tt0000005</td>\n",
       "      <td>1</td>\n",
       "      <td>Blacksmithing Scene</td>\n",
       "      <td>US</td>\n",
       "      <td>\\N</td>\n",
       "      <td>alternative</td>\n",
       "      <td>\\N</td>\n",
       "      <td>0</td>\n",
       "    </tr>\n",
       "    <tr>\n",
       "      <th>4</th>\n",
       "      <td>tt0000005</td>\n",
       "      <td>6</td>\n",
       "      <td>Blacksmith Scene #1</td>\n",
       "      <td>US</td>\n",
       "      <td>\\N</td>\n",
       "      <td>alternative</td>\n",
       "      <td>\\N</td>\n",
       "      <td>0</td>\n",
       "    </tr>\n",
       "  </tbody>\n",
       "</table>\n",
       "</div>"
      ],
      "text/plain": [
       "     titleId  ordering                   title region language        types  \\\n",
       "0  tt0000001         6              Carmencita     US       \\N  imdbDisplay   \n",
       "1  tt0000002         7  The Clown and His Dogs     US       \\N           \\N   \n",
       "2  tt0000005        10        Blacksmith Scene     US       \\N  imdbDisplay   \n",
       "3  tt0000005         1     Blacksmithing Scene     US       \\N  alternative   \n",
       "4  tt0000005         6     Blacksmith Scene #1     US       \\N  alternative   \n",
       "\n",
       "              attributes isOriginalTitle  \n",
       "0                     \\N               0  \n",
       "1  literal English title               0  \n",
       "2                     \\N               0  \n",
       "3                     \\N               0  \n",
       "4                     \\N               0  "
      ]
     },
     "execution_count": 3,
     "metadata": {},
     "output_type": "execute_result"
    }
   ],
   "source": [
    "akas.head()"
   ]
  },
  {
   "cell_type": "code",
   "execution_count": 4,
   "id": "d7425fa2",
   "metadata": {},
   "outputs": [
    {
     "name": "stdout",
     "output_type": "stream",
     "text": [
      "<class 'pandas.core.frame.DataFrame'>\n",
      "RangeIndex: 1452564 entries, 0 to 1452563\n",
      "Data columns (total 8 columns):\n",
      " #   Column           Non-Null Count    Dtype \n",
      "---  ------           --------------    ----- \n",
      " 0   titleId          1452564 non-null  object\n",
      " 1   ordering         1452564 non-null  int64 \n",
      " 2   title            1452564 non-null  object\n",
      " 3   region           1452564 non-null  object\n",
      " 4   language         1452564 non-null  object\n",
      " 5   types            1452564 non-null  object\n",
      " 6   attributes       1452564 non-null  object\n",
      " 7   isOriginalTitle  1452564 non-null  object\n",
      "dtypes: int64(1), object(7)\n",
      "memory usage: 88.7+ MB\n"
     ]
    }
   ],
   "source": [
    "akas.info()"
   ]
  },
  {
   "cell_type": "code",
   "execution_count": 5,
   "id": "d4d36e9b",
   "metadata": {},
   "outputs": [
    {
     "data": {
      "text/html": [
       "<div>\n",
       "<style scoped>\n",
       "    .dataframe tbody tr th:only-of-type {\n",
       "        vertical-align: middle;\n",
       "    }\n",
       "\n",
       "    .dataframe tbody tr th {\n",
       "        vertical-align: top;\n",
       "    }\n",
       "\n",
       "    .dataframe thead th {\n",
       "        text-align: right;\n",
       "    }\n",
       "</style>\n",
       "<table border=\"1\" class=\"dataframe\">\n",
       "  <thead>\n",
       "    <tr style=\"text-align: right;\">\n",
       "      <th></th>\n",
       "      <th>titleId</th>\n",
       "      <th>ordering</th>\n",
       "      <th>title</th>\n",
       "      <th>region</th>\n",
       "      <th>language</th>\n",
       "      <th>types</th>\n",
       "      <th>attributes</th>\n",
       "      <th>isOriginalTitle</th>\n",
       "    </tr>\n",
       "  </thead>\n",
       "  <tbody>\n",
       "    <tr>\n",
       "      <th>0</th>\n",
       "      <td>tt0000001</td>\n",
       "      <td>6</td>\n",
       "      <td>Carmencita</td>\n",
       "      <td>US</td>\n",
       "      <td>NaN</td>\n",
       "      <td>imdbDisplay</td>\n",
       "      <td>NaN</td>\n",
       "      <td>0</td>\n",
       "    </tr>\n",
       "    <tr>\n",
       "      <th>1</th>\n",
       "      <td>tt0000002</td>\n",
       "      <td>7</td>\n",
       "      <td>The Clown and His Dogs</td>\n",
       "      <td>US</td>\n",
       "      <td>NaN</td>\n",
       "      <td>NaN</td>\n",
       "      <td>literal English title</td>\n",
       "      <td>0</td>\n",
       "    </tr>\n",
       "    <tr>\n",
       "      <th>2</th>\n",
       "      <td>tt0000005</td>\n",
       "      <td>10</td>\n",
       "      <td>Blacksmith Scene</td>\n",
       "      <td>US</td>\n",
       "      <td>NaN</td>\n",
       "      <td>imdbDisplay</td>\n",
       "      <td>NaN</td>\n",
       "      <td>0</td>\n",
       "    </tr>\n",
       "    <tr>\n",
       "      <th>3</th>\n",
       "      <td>tt0000005</td>\n",
       "      <td>1</td>\n",
       "      <td>Blacksmithing Scene</td>\n",
       "      <td>US</td>\n",
       "      <td>NaN</td>\n",
       "      <td>alternative</td>\n",
       "      <td>NaN</td>\n",
       "      <td>0</td>\n",
       "    </tr>\n",
       "    <tr>\n",
       "      <th>4</th>\n",
       "      <td>tt0000005</td>\n",
       "      <td>6</td>\n",
       "      <td>Blacksmith Scene #1</td>\n",
       "      <td>US</td>\n",
       "      <td>NaN</td>\n",
       "      <td>alternative</td>\n",
       "      <td>NaN</td>\n",
       "      <td>0</td>\n",
       "    </tr>\n",
       "  </tbody>\n",
       "</table>\n",
       "</div>"
      ],
      "text/plain": [
       "     titleId  ordering                   title region language        types  \\\n",
       "0  tt0000001         6              Carmencita     US      NaN  imdbDisplay   \n",
       "1  tt0000002         7  The Clown and His Dogs     US      NaN          NaN   \n",
       "2  tt0000005        10        Blacksmith Scene     US      NaN  imdbDisplay   \n",
       "3  tt0000005         1     Blacksmithing Scene     US      NaN  alternative   \n",
       "4  tt0000005         6     Blacksmith Scene #1     US      NaN  alternative   \n",
       "\n",
       "              attributes isOriginalTitle  \n",
       "0                    NaN               0  \n",
       "1  literal English title               0  \n",
       "2                    NaN               0  \n",
       "3                    NaN               0  \n",
       "4                    NaN               0  "
      ]
     },
     "execution_count": 5,
     "metadata": {},
     "output_type": "execute_result"
    }
   ],
   "source": [
    "# Null values are represented by '\\N'\n",
    "# These values are replaced by numpy null values\n",
    "\n",
    "akas = akas.replace({'\\\\N':np.nan})\n",
    "\n",
    "akas.head()"
   ]
  },
  {
   "cell_type": "code",
   "execution_count": 6,
   "id": "b29fb036",
   "metadata": {},
   "outputs": [
    {
     "data": {
      "text/plain": [
       "US    1452564\n",
       "Name: region, dtype: int64"
      ]
     },
     "execution_count": 6,
     "metadata": {},
     "output_type": "execute_result"
    }
   ],
   "source": [
    "akas['region'].value_counts()"
   ]
  },
  {
   "cell_type": "markdown",
   "id": "da1ed8c9",
   "metadata": {},
   "source": [
    "### Basics"
   ]
  },
  {
   "cell_type": "code",
   "execution_count": 7,
   "id": "6c19b34b",
   "metadata": {},
   "outputs": [
    {
     "data": {
      "text/html": [
       "<div>\n",
       "<style scoped>\n",
       "    .dataframe tbody tr th:only-of-type {\n",
       "        vertical-align: middle;\n",
       "    }\n",
       "\n",
       "    .dataframe tbody tr th {\n",
       "        vertical-align: top;\n",
       "    }\n",
       "\n",
       "    .dataframe thead th {\n",
       "        text-align: right;\n",
       "    }\n",
       "</style>\n",
       "<table border=\"1\" class=\"dataframe\">\n",
       "  <thead>\n",
       "    <tr style=\"text-align: right;\">\n",
       "      <th></th>\n",
       "      <th>tconst</th>\n",
       "      <th>titleType</th>\n",
       "      <th>primaryTitle</th>\n",
       "      <th>originalTitle</th>\n",
       "      <th>isAdult</th>\n",
       "      <th>startYear</th>\n",
       "      <th>endYear</th>\n",
       "      <th>runtimeMinutes</th>\n",
       "      <th>genres</th>\n",
       "    </tr>\n",
       "  </thead>\n",
       "  <tbody>\n",
       "    <tr>\n",
       "      <th>0</th>\n",
       "      <td>tt0000001</td>\n",
       "      <td>short</td>\n",
       "      <td>Carmencita</td>\n",
       "      <td>Carmencita</td>\n",
       "      <td>0</td>\n",
       "      <td>1894</td>\n",
       "      <td>\\N</td>\n",
       "      <td>1</td>\n",
       "      <td>Documentary,Short</td>\n",
       "    </tr>\n",
       "    <tr>\n",
       "      <th>1</th>\n",
       "      <td>tt0000002</td>\n",
       "      <td>short</td>\n",
       "      <td>Le clown et ses chiens</td>\n",
       "      <td>Le clown et ses chiens</td>\n",
       "      <td>0</td>\n",
       "      <td>1892</td>\n",
       "      <td>\\N</td>\n",
       "      <td>5</td>\n",
       "      <td>Animation,Short</td>\n",
       "    </tr>\n",
       "    <tr>\n",
       "      <th>2</th>\n",
       "      <td>tt0000003</td>\n",
       "      <td>short</td>\n",
       "      <td>Pauvre Pierrot</td>\n",
       "      <td>Pauvre Pierrot</td>\n",
       "      <td>0</td>\n",
       "      <td>1892</td>\n",
       "      <td>\\N</td>\n",
       "      <td>4</td>\n",
       "      <td>Animation,Comedy,Romance</td>\n",
       "    </tr>\n",
       "    <tr>\n",
       "      <th>3</th>\n",
       "      <td>tt0000004</td>\n",
       "      <td>short</td>\n",
       "      <td>Un bon bock</td>\n",
       "      <td>Un bon bock</td>\n",
       "      <td>0</td>\n",
       "      <td>1892</td>\n",
       "      <td>\\N</td>\n",
       "      <td>12</td>\n",
       "      <td>Animation,Short</td>\n",
       "    </tr>\n",
       "    <tr>\n",
       "      <th>4</th>\n",
       "      <td>tt0000005</td>\n",
       "      <td>short</td>\n",
       "      <td>Blacksmith Scene</td>\n",
       "      <td>Blacksmith Scene</td>\n",
       "      <td>0</td>\n",
       "      <td>1893</td>\n",
       "      <td>\\N</td>\n",
       "      <td>1</td>\n",
       "      <td>Comedy,Short</td>\n",
       "    </tr>\n",
       "  </tbody>\n",
       "</table>\n",
       "</div>"
      ],
      "text/plain": [
       "      tconst titleType            primaryTitle           originalTitle  \\\n",
       "0  tt0000001     short              Carmencita              Carmencita   \n",
       "1  tt0000002     short  Le clown et ses chiens  Le clown et ses chiens   \n",
       "2  tt0000003     short          Pauvre Pierrot          Pauvre Pierrot   \n",
       "3  tt0000004     short             Un bon bock             Un bon bock   \n",
       "4  tt0000005     short        Blacksmith Scene        Blacksmith Scene   \n",
       "\n",
       "  isAdult startYear endYear runtimeMinutes                    genres  \n",
       "0       0      1894      \\N              1         Documentary,Short  \n",
       "1       0      1892      \\N              5           Animation,Short  \n",
       "2       0      1892      \\N              4  Animation,Comedy,Romance  \n",
       "3       0      1892      \\N             12           Animation,Short  \n",
       "4       0      1893      \\N              1              Comedy,Short  "
      ]
     },
     "execution_count": 7,
     "metadata": {},
     "output_type": "execute_result"
    }
   ],
   "source": [
    "basics.head()"
   ]
  },
  {
   "cell_type": "code",
   "execution_count": 8,
   "id": "10facf5d",
   "metadata": {},
   "outputs": [
    {
     "name": "stdout",
     "output_type": "stream",
     "text": [
      "<class 'pandas.core.frame.DataFrame'>\n",
      "RangeIndex: 10176402 entries, 0 to 10176401\n",
      "Data columns (total 9 columns):\n",
      " #   Column          Dtype \n",
      "---  ------          ----- \n",
      " 0   tconst          object\n",
      " 1   titleType       object\n",
      " 2   primaryTitle    object\n",
      " 3   originalTitle   object\n",
      " 4   isAdult         object\n",
      " 5   startYear       object\n",
      " 6   endYear         object\n",
      " 7   runtimeMinutes  object\n",
      " 8   genres          object\n",
      "dtypes: object(9)\n",
      "memory usage: 698.8+ MB\n"
     ]
    }
   ],
   "source": [
    "# The original rows for Basics is shown\n",
    "\n",
    "basics.info()"
   ]
  },
  {
   "cell_type": "code",
   "execution_count": 9,
   "id": "cf27a4b6",
   "metadata": {},
   "outputs": [],
   "source": [
    "# A filter is created for Basics using only the remaining entries in AKAs\n",
    "\n",
    "keepers = basics['tconst'].isin(akas['titleId'])"
   ]
  },
  {
   "cell_type": "code",
   "execution_count": 10,
   "id": "272d56f0",
   "metadata": {},
   "outputs": [
    {
     "name": "stdout",
     "output_type": "stream",
     "text": [
      "<class 'pandas.core.frame.DataFrame'>\n",
      "Int64Index: 1364946 entries, 0 to 10176357\n",
      "Data columns (total 9 columns):\n",
      " #   Column          Non-Null Count    Dtype \n",
      "---  ------          --------------    ----- \n",
      " 0   tconst          1364946 non-null  object\n",
      " 1   titleType       1364946 non-null  object\n",
      " 2   primaryTitle    1364946 non-null  object\n",
      " 3   originalTitle   1364946 non-null  object\n",
      " 4   isAdult         1364946 non-null  object\n",
      " 5   startYear       1364946 non-null  object\n",
      " 6   endYear         1364946 non-null  object\n",
      " 7   runtimeMinutes  1364946 non-null  object\n",
      " 8   genres          1364946 non-null  object\n",
      "dtypes: object(9)\n",
      "memory usage: 104.1+ MB\n"
     ]
    }
   ],
   "source": [
    "# This filter is applied to the Basics dataframe\n",
    "basics = basics[keepers]\n",
    "\n",
    "# The new number of rows is shown\n",
    "# The number of null values is also shown\n",
    "basics.info()"
   ]
  },
  {
   "cell_type": "code",
   "execution_count": 11,
   "id": "43a8f898",
   "metadata": {},
   "outputs": [
    {
     "data": {
      "text/html": [
       "<div>\n",
       "<style scoped>\n",
       "    .dataframe tbody tr th:only-of-type {\n",
       "        vertical-align: middle;\n",
       "    }\n",
       "\n",
       "    .dataframe tbody tr th {\n",
       "        vertical-align: top;\n",
       "    }\n",
       "\n",
       "    .dataframe thead th {\n",
       "        text-align: right;\n",
       "    }\n",
       "</style>\n",
       "<table border=\"1\" class=\"dataframe\">\n",
       "  <thead>\n",
       "    <tr style=\"text-align: right;\">\n",
       "      <th></th>\n",
       "      <th>tconst</th>\n",
       "      <th>titleType</th>\n",
       "      <th>primaryTitle</th>\n",
       "      <th>originalTitle</th>\n",
       "      <th>isAdult</th>\n",
       "      <th>startYear</th>\n",
       "      <th>endYear</th>\n",
       "      <th>runtimeMinutes</th>\n",
       "      <th>genres</th>\n",
       "    </tr>\n",
       "  </thead>\n",
       "  <tbody>\n",
       "    <tr>\n",
       "      <th>0</th>\n",
       "      <td>tt0000001</td>\n",
       "      <td>short</td>\n",
       "      <td>Carmencita</td>\n",
       "      <td>Carmencita</td>\n",
       "      <td>0</td>\n",
       "      <td>1894</td>\n",
       "      <td>NaN</td>\n",
       "      <td>1</td>\n",
       "      <td>Documentary,Short</td>\n",
       "    </tr>\n",
       "    <tr>\n",
       "      <th>1</th>\n",
       "      <td>tt0000002</td>\n",
       "      <td>short</td>\n",
       "      <td>Le clown et ses chiens</td>\n",
       "      <td>Le clown et ses chiens</td>\n",
       "      <td>0</td>\n",
       "      <td>1892</td>\n",
       "      <td>NaN</td>\n",
       "      <td>5</td>\n",
       "      <td>Animation,Short</td>\n",
       "    </tr>\n",
       "    <tr>\n",
       "      <th>4</th>\n",
       "      <td>tt0000005</td>\n",
       "      <td>short</td>\n",
       "      <td>Blacksmith Scene</td>\n",
       "      <td>Blacksmith Scene</td>\n",
       "      <td>0</td>\n",
       "      <td>1893</td>\n",
       "      <td>NaN</td>\n",
       "      <td>1</td>\n",
       "      <td>Comedy,Short</td>\n",
       "    </tr>\n",
       "    <tr>\n",
       "      <th>5</th>\n",
       "      <td>tt0000006</td>\n",
       "      <td>short</td>\n",
       "      <td>Chinese Opium Den</td>\n",
       "      <td>Chinese Opium Den</td>\n",
       "      <td>0</td>\n",
       "      <td>1894</td>\n",
       "      <td>NaN</td>\n",
       "      <td>1</td>\n",
       "      <td>Short</td>\n",
       "    </tr>\n",
       "    <tr>\n",
       "      <th>6</th>\n",
       "      <td>tt0000007</td>\n",
       "      <td>short</td>\n",
       "      <td>Corbett and Courtney Before the Kinetograph</td>\n",
       "      <td>Corbett and Courtney Before the Kinetograph</td>\n",
       "      <td>0</td>\n",
       "      <td>1894</td>\n",
       "      <td>NaN</td>\n",
       "      <td>1</td>\n",
       "      <td>Short,Sport</td>\n",
       "    </tr>\n",
       "  </tbody>\n",
       "</table>\n",
       "</div>"
      ],
      "text/plain": [
       "      tconst titleType                                 primaryTitle  \\\n",
       "0  tt0000001     short                                   Carmencita   \n",
       "1  tt0000002     short                       Le clown et ses chiens   \n",
       "4  tt0000005     short                             Blacksmith Scene   \n",
       "5  tt0000006     short                            Chinese Opium Den   \n",
       "6  tt0000007     short  Corbett and Courtney Before the Kinetograph   \n",
       "\n",
       "                                 originalTitle isAdult startYear endYear  \\\n",
       "0                                   Carmencita       0      1894     NaN   \n",
       "1                       Le clown et ses chiens       0      1892     NaN   \n",
       "4                             Blacksmith Scene       0      1893     NaN   \n",
       "5                            Chinese Opium Den       0      1894     NaN   \n",
       "6  Corbett and Courtney Before the Kinetograph       0      1894     NaN   \n",
       "\n",
       "  runtimeMinutes             genres  \n",
       "0              1  Documentary,Short  \n",
       "1              5    Animation,Short  \n",
       "4              1       Comedy,Short  \n",
       "5              1              Short  \n",
       "6              1        Short,Sport  "
      ]
     },
     "execution_count": 11,
     "metadata": {},
     "output_type": "execute_result"
    }
   ],
   "source": [
    "basics = basics.replace({'\\\\N':np.nan})\n",
    "\n",
    "basics.head()"
   ]
  },
  {
   "cell_type": "code",
   "execution_count": 12,
   "id": "251ad065",
   "metadata": {},
   "outputs": [
    {
     "name": "stdout",
     "output_type": "stream",
     "text": [
      "<class 'pandas.core.frame.DataFrame'>\n",
      "Int64Index: 863783 entries, 0 to 10176263\n",
      "Data columns (total 9 columns):\n",
      " #   Column          Non-Null Count   Dtype \n",
      "---  ------          --------------   ----- \n",
      " 0   tconst          863783 non-null  object\n",
      " 1   titleType       863783 non-null  object\n",
      " 2   primaryTitle    863783 non-null  object\n",
      " 3   originalTitle   863783 non-null  object\n",
      " 4   isAdult         863783 non-null  object\n",
      " 5   startYear       855063 non-null  object\n",
      " 6   endYear         21069 non-null   object\n",
      " 7   runtimeMinutes  863783 non-null  object\n",
      " 8   genres          854752 non-null  object\n",
      "dtypes: object(9)\n",
      "memory usage: 65.9+ MB\n"
     ]
    }
   ],
   "source": [
    "# Rows with null values under 'runtimeMinutes' are dropped\n",
    "\n",
    "basics.dropna(subset='runtimeMinutes', inplace=True)\n",
    "\n",
    "basics.info()"
   ]
  },
  {
   "cell_type": "code",
   "execution_count": 13,
   "id": "4c160c29",
   "metadata": {},
   "outputs": [
    {
     "name": "stdout",
     "output_type": "stream",
     "text": [
      "<class 'pandas.core.frame.DataFrame'>\n",
      "Int64Index: 854752 entries, 0 to 10176263\n",
      "Data columns (total 9 columns):\n",
      " #   Column          Non-Null Count   Dtype \n",
      "---  ------          --------------   ----- \n",
      " 0   tconst          854752 non-null  object\n",
      " 1   titleType       854752 non-null  object\n",
      " 2   primaryTitle    854752 non-null  object\n",
      " 3   originalTitle   854752 non-null  object\n",
      " 4   isAdult         854752 non-null  object\n",
      " 5   startYear       846106 non-null  object\n",
      " 6   endYear         20692 non-null   object\n",
      " 7   runtimeMinutes  854752 non-null  object\n",
      " 8   genres          854752 non-null  object\n",
      "dtypes: object(9)\n",
      "memory usage: 65.2+ MB\n"
     ]
    }
   ],
   "source": [
    "# Rows with null values under 'genres' are dropped\n",
    "\n",
    "basics.dropna(subset='genres', inplace=True)\n",
    "\n",
    "basics.info()"
   ]
  },
  {
   "cell_type": "code",
   "execution_count": 14,
   "id": "ef62cf62",
   "metadata": {},
   "outputs": [
    {
     "data": {
      "text/plain": [
       "short           278617\n",
       "movie           203967\n",
       "tvEpisode       173972\n",
       "video           115750\n",
       "tvSeries         36826\n",
       "tvMovie          25957\n",
       "tvSpecial         9339\n",
       "tvMiniSeries      6019\n",
       "tvShort           4108\n",
       "videoGame          197\n",
       "Name: titleType, dtype: int64"
      ]
     },
     "execution_count": 14,
     "metadata": {},
     "output_type": "execute_result"
    }
   ],
   "source": [
    "# All values under 'titleType' are shown\n",
    "\n",
    "basics['titleType'].value_counts()"
   ]
  },
  {
   "cell_type": "code",
   "execution_count": 15,
   "id": "13d07942",
   "metadata": {},
   "outputs": [
    {
     "data": {
      "text/plain": [
       "movie    203967\n",
       "Name: titleType, dtype: int64"
      ]
     },
     "execution_count": 15,
     "metadata": {},
     "output_type": "execute_result"
    }
   ],
   "source": [
    "# A filter only including the value 'movie' under 'titleType' is created\n",
    "# and stored\n",
    "\n",
    "basics = basics[basics['titleType'] == 'movie']\n",
    "\n",
    "# The new value counts are shown; only 'movie' remains\n",
    "basics['titleType'].value_counts()"
   ]
  },
  {
   "cell_type": "code",
   "execution_count": 16,
   "id": "f4adac2d",
   "metadata": {},
   "outputs": [
    {
     "data": {
      "text/plain": [
       "dtype('O')"
      ]
     },
     "execution_count": 16,
     "metadata": {},
     "output_type": "execute_result"
    }
   ],
   "source": [
    "basics['startYear'].dtype"
   ]
  },
  {
   "cell_type": "code",
   "execution_count": 17,
   "id": "6d2ab13e",
   "metadata": {},
   "outputs": [
    {
     "data": {
      "text/plain": [
       "dtype('float64')"
      ]
     },
     "execution_count": 17,
     "metadata": {},
     "output_type": "execute_result"
    }
   ],
   "source": [
    "# 'startYear' is changed to dtype 'float'\n",
    "basics['startYear'] = basics['startYear'].astype(float)\n",
    "\n",
    "# Dtype is confirmed\n",
    "basics['startYear'].dtype"
   ]
  },
  {
   "cell_type": "code",
   "execution_count": 18,
   "id": "29e18927",
   "metadata": {},
   "outputs": [
    {
     "data": {
      "text/plain": [
       "2019.0    8101\n",
       "2018.0    7864\n",
       "2017.0    7814\n",
       "2016.0    7413\n",
       "2015.0    7231\n",
       "2014.0    7169\n",
       "2020.0    7031\n",
       "2013.0    6945\n",
       "2021.0    6923\n",
       "2012.0    6593\n",
       "2011.0    6120\n",
       "2010.0    5584\n",
       "2009.0    5087\n",
       "2008.0    4243\n",
       "2007.0    3607\n",
       "2006.0    3341\n",
       "2005.0    2924\n",
       "2004.0    2535\n",
       "2003.0    2191\n",
       "2002.0    2003\n",
       "2001.0    1933\n",
       "2000.0    1790\n",
       "Name: startYear, dtype: int64"
      ]
     },
     "execution_count": 18,
     "metadata": {},
     "output_type": "execute_result"
    }
   ],
   "source": [
    "# A filter is created and stored\n",
    "# Only values within a certain yearframe are included\n",
    "\n",
    "basics = basics[(basics['startYear'] >= 2000) & (basics['startYear'] <= 2021)]\n",
    "\n",
    "# The new value counts are shown\n",
    "basics['startYear'].value_counts()"
   ]
  },
  {
   "cell_type": "code",
   "execution_count": 19,
   "id": "06016350",
   "metadata": {},
   "outputs": [],
   "source": [
    "# A filter is created and stored\n",
    "# containing only entries under 'genres' that contain the word 'documentary'\n",
    "# where capitalization does not matter\n",
    "\n",
    "is_documentary = basics['genres'].str.contains('documentary',case=False)\n",
    "\n",
    "# The filter is applied. The tilde reverses the boolean function\n",
    "# removing all entries including 'documentary' instead of saving them\n",
    "basics = basics[~is_documentary]"
   ]
  },
  {
   "cell_type": "markdown",
   "id": "c4a2a842",
   "metadata": {},
   "source": [
    "### Ratings"
   ]
  },
  {
   "cell_type": "code",
   "execution_count": 20,
   "id": "c42027f4",
   "metadata": {},
   "outputs": [
    {
     "data": {
      "text/html": [
       "<div>\n",
       "<style scoped>\n",
       "    .dataframe tbody tr th:only-of-type {\n",
       "        vertical-align: middle;\n",
       "    }\n",
       "\n",
       "    .dataframe tbody tr th {\n",
       "        vertical-align: top;\n",
       "    }\n",
       "\n",
       "    .dataframe thead th {\n",
       "        text-align: right;\n",
       "    }\n",
       "</style>\n",
       "<table border=\"1\" class=\"dataframe\">\n",
       "  <thead>\n",
       "    <tr style=\"text-align: right;\">\n",
       "      <th></th>\n",
       "      <th>tconst</th>\n",
       "      <th>averageRating</th>\n",
       "      <th>numVotes</th>\n",
       "    </tr>\n",
       "  </thead>\n",
       "  <tbody>\n",
       "    <tr>\n",
       "      <th>0</th>\n",
       "      <td>tt0000001</td>\n",
       "      <td>5.7</td>\n",
       "      <td>1993</td>\n",
       "    </tr>\n",
       "    <tr>\n",
       "      <th>1</th>\n",
       "      <td>tt0000002</td>\n",
       "      <td>5.8</td>\n",
       "      <td>268</td>\n",
       "    </tr>\n",
       "    <tr>\n",
       "      <th>2</th>\n",
       "      <td>tt0000003</td>\n",
       "      <td>6.5</td>\n",
       "      <td>1879</td>\n",
       "    </tr>\n",
       "    <tr>\n",
       "      <th>3</th>\n",
       "      <td>tt0000004</td>\n",
       "      <td>5.5</td>\n",
       "      <td>177</td>\n",
       "    </tr>\n",
       "    <tr>\n",
       "      <th>4</th>\n",
       "      <td>tt0000005</td>\n",
       "      <td>6.2</td>\n",
       "      <td>2663</td>\n",
       "    </tr>\n",
       "  </tbody>\n",
       "</table>\n",
       "</div>"
      ],
      "text/plain": [
       "      tconst  averageRating  numVotes\n",
       "0  tt0000001            5.7      1993\n",
       "1  tt0000002            5.8       268\n",
       "2  tt0000003            6.5      1879\n",
       "3  tt0000004            5.5       177\n",
       "4  tt0000005            6.2      2663"
      ]
     },
     "execution_count": 20,
     "metadata": {},
     "output_type": "execute_result"
    }
   ],
   "source": [
    "ratings.head()"
   ]
  },
  {
   "cell_type": "code",
   "execution_count": 21,
   "id": "d21dd773",
   "metadata": {},
   "outputs": [
    {
     "name": "stdout",
     "output_type": "stream",
     "text": [
      "<class 'pandas.core.frame.DataFrame'>\n",
      "RangeIndex: 1351320 entries, 0 to 1351319\n",
      "Data columns (total 3 columns):\n",
      " #   Column         Non-Null Count    Dtype  \n",
      "---  ------         --------------    -----  \n",
      " 0   tconst         1351320 non-null  object \n",
      " 1   averageRating  1351320 non-null  float64\n",
      " 2   numVotes       1351320 non-null  int64  \n",
      "dtypes: float64(1), int64(1), object(1)\n",
      "memory usage: 30.9+ MB\n"
     ]
    }
   ],
   "source": [
    "ratings.info()"
   ]
  },
  {
   "cell_type": "code",
   "execution_count": 22,
   "id": "c9a1be1b",
   "metadata": {},
   "outputs": [
    {
     "data": {
      "text/plain": [
       "0          False\n",
       "1          False\n",
       "2          False\n",
       "3          False\n",
       "4          False\n",
       "           ...  \n",
       "1351315    False\n",
       "1351316    False\n",
       "1351317    False\n",
       "1351318    False\n",
       "1351319    False\n",
       "Name: tconst, Length: 1351320, dtype: bool"
      ]
     },
     "execution_count": 22,
     "metadata": {},
     "output_type": "execute_result"
    }
   ],
   "source": [
    "# A filter is created for Ratings using only the remaining entries in Basics\n",
    "\n",
    "keepers = ratings['tconst'].isin(basics['tconst'])\n",
    "\n",
    "keepers"
   ]
  },
  {
   "cell_type": "code",
   "execution_count": 23,
   "id": "1f56ad01",
   "metadata": {},
   "outputs": [
    {
     "name": "stdout",
     "output_type": "stream",
     "text": [
      "<class 'pandas.core.frame.DataFrame'>\n",
      "Int64Index: 68088 entries, 17920 to 1351291\n",
      "Data columns (total 3 columns):\n",
      " #   Column         Non-Null Count  Dtype  \n",
      "---  ------         --------------  -----  \n",
      " 0   tconst         68088 non-null  object \n",
      " 1   averageRating  68088 non-null  float64\n",
      " 2   numVotes       68088 non-null  int64  \n",
      "dtypes: float64(1), int64(1), object(1)\n",
      "memory usage: 2.1+ MB\n"
     ]
    }
   ],
   "source": [
    "ratings = ratings[keepers]\n",
    "\n",
    "ratings.info()"
   ]
  },
  {
   "cell_type": "code",
   "execution_count": 24,
   "id": "1cf5e572",
   "metadata": {},
   "outputs": [
    {
     "name": "stdout",
     "output_type": "stream",
     "text": [
      "<class 'pandas.core.frame.DataFrame'>\n",
      "Int64Index: 68088 entries, 17920 to 1351291\n",
      "Data columns (total 3 columns):\n",
      " #   Column         Non-Null Count  Dtype  \n",
      "---  ------         --------------  -----  \n",
      " 0   tconst         68088 non-null  object \n",
      " 1   averageRating  68088 non-null  float64\n",
      " 2   numVotes       68088 non-null  int64  \n",
      "dtypes: float64(1), int64(1), object(1)\n",
      "memory usage: 2.1+ MB\n"
     ]
    }
   ],
   "source": [
    "ratings = ratings.replace({'\\\\N':np.nan})\n",
    "\n",
    "ratings.info()"
   ]
  },
  {
   "cell_type": "markdown",
   "id": "95b37b66",
   "metadata": {},
   "source": [
    "## Data Overview"
   ]
  },
  {
   "cell_type": "code",
   "execution_count": 25,
   "id": "3f25f5f8",
   "metadata": {},
   "outputs": [
    {
     "name": "stdout",
     "output_type": "stream",
     "text": [
      "<class 'pandas.core.frame.DataFrame'>\n",
      "RangeIndex: 1452564 entries, 0 to 1452563\n",
      "Data columns (total 8 columns):\n",
      " #   Column           Non-Null Count    Dtype \n",
      "---  ------           --------------    ----- \n",
      " 0   titleId          1452564 non-null  object\n",
      " 1   ordering         1452564 non-null  int64 \n",
      " 2   title            1452564 non-null  object\n",
      " 3   region           1452564 non-null  object\n",
      " 4   language         4018 non-null     object\n",
      " 5   types            981678 non-null   object\n",
      " 6   attributes       47016 non-null    object\n",
      " 7   isOriginalTitle  1451222 non-null  object\n",
      "dtypes: int64(1), object(7)\n",
      "memory usage: 88.7+ MB\n"
     ]
    }
   ],
   "source": [
    "akas.info()"
   ]
  },
  {
   "cell_type": "code",
   "execution_count": 26,
   "id": "3f28d75b",
   "metadata": {},
   "outputs": [
    {
     "name": "stdout",
     "output_type": "stream",
     "text": [
      "<class 'pandas.core.frame.DataFrame'>\n",
      "Int64Index: 81890 entries, 34800 to 10176168\n",
      "Data columns (total 9 columns):\n",
      " #   Column          Non-Null Count  Dtype  \n",
      "---  ------          --------------  -----  \n",
      " 0   tconst          81890 non-null  object \n",
      " 1   titleType       81890 non-null  object \n",
      " 2   primaryTitle    81890 non-null  object \n",
      " 3   originalTitle   81890 non-null  object \n",
      " 4   isAdult         81890 non-null  object \n",
      " 5   startYear       81890 non-null  float64\n",
      " 6   endYear         0 non-null      object \n",
      " 7   runtimeMinutes  81890 non-null  object \n",
      " 8   genres          81890 non-null  object \n",
      "dtypes: float64(1), object(8)\n",
      "memory usage: 6.2+ MB\n"
     ]
    }
   ],
   "source": [
    "basics.info()"
   ]
  },
  {
   "cell_type": "code",
   "execution_count": 27,
   "id": "939be9fc",
   "metadata": {},
   "outputs": [
    {
     "name": "stdout",
     "output_type": "stream",
     "text": [
      "<class 'pandas.core.frame.DataFrame'>\n",
      "Int64Index: 68088 entries, 17920 to 1351291\n",
      "Data columns (total 3 columns):\n",
      " #   Column         Non-Null Count  Dtype  \n",
      "---  ------         --------------  -----  \n",
      " 0   tconst         68088 non-null  object \n",
      " 1   averageRating  68088 non-null  float64\n",
      " 2   numVotes       68088 non-null  int64  \n",
      "dtypes: float64(1), int64(1), object(1)\n",
      "memory usage: 2.1+ MB\n"
     ]
    }
   ],
   "source": [
    "ratings.info()"
   ]
  },
  {
   "cell_type": "markdown",
   "id": "0be18561",
   "metadata": {},
   "source": [
    "## Saving the New Data"
   ]
  },
  {
   "cell_type": "code",
   "execution_count": 28,
   "id": "eea9c7af",
   "metadata": {},
   "outputs": [
    {
     "data": {
      "text/html": [
       "<div>\n",
       "<style scoped>\n",
       "    .dataframe tbody tr th:only-of-type {\n",
       "        vertical-align: middle;\n",
       "    }\n",
       "\n",
       "    .dataframe tbody tr th {\n",
       "        vertical-align: top;\n",
       "    }\n",
       "\n",
       "    .dataframe thead th {\n",
       "        text-align: right;\n",
       "    }\n",
       "</style>\n",
       "<table border=\"1\" class=\"dataframe\">\n",
       "  <thead>\n",
       "    <tr style=\"text-align: right;\">\n",
       "      <th></th>\n",
       "      <th>titleId</th>\n",
       "      <th>ordering</th>\n",
       "      <th>title</th>\n",
       "      <th>region</th>\n",
       "      <th>language</th>\n",
       "      <th>types</th>\n",
       "      <th>attributes</th>\n",
       "      <th>isOriginalTitle</th>\n",
       "    </tr>\n",
       "  </thead>\n",
       "  <tbody>\n",
       "    <tr>\n",
       "      <th>0</th>\n",
       "      <td>tt0000001</td>\n",
       "      <td>6</td>\n",
       "      <td>Carmencita</td>\n",
       "      <td>US</td>\n",
       "      <td>NaN</td>\n",
       "      <td>imdbDisplay</td>\n",
       "      <td>NaN</td>\n",
       "      <td>0.0</td>\n",
       "    </tr>\n",
       "    <tr>\n",
       "      <th>1</th>\n",
       "      <td>tt0000002</td>\n",
       "      <td>7</td>\n",
       "      <td>The Clown and His Dogs</td>\n",
       "      <td>US</td>\n",
       "      <td>NaN</td>\n",
       "      <td>NaN</td>\n",
       "      <td>literal English title</td>\n",
       "      <td>0.0</td>\n",
       "    </tr>\n",
       "    <tr>\n",
       "      <th>2</th>\n",
       "      <td>tt0000005</td>\n",
       "      <td>10</td>\n",
       "      <td>Blacksmith Scene</td>\n",
       "      <td>US</td>\n",
       "      <td>NaN</td>\n",
       "      <td>imdbDisplay</td>\n",
       "      <td>NaN</td>\n",
       "      <td>0.0</td>\n",
       "    </tr>\n",
       "    <tr>\n",
       "      <th>3</th>\n",
       "      <td>tt0000005</td>\n",
       "      <td>1</td>\n",
       "      <td>Blacksmithing Scene</td>\n",
       "      <td>US</td>\n",
       "      <td>NaN</td>\n",
       "      <td>alternative</td>\n",
       "      <td>NaN</td>\n",
       "      <td>0.0</td>\n",
       "    </tr>\n",
       "    <tr>\n",
       "      <th>4</th>\n",
       "      <td>tt0000005</td>\n",
       "      <td>6</td>\n",
       "      <td>Blacksmith Scene #1</td>\n",
       "      <td>US</td>\n",
       "      <td>NaN</td>\n",
       "      <td>alternative</td>\n",
       "      <td>NaN</td>\n",
       "      <td>0.0</td>\n",
       "    </tr>\n",
       "  </tbody>\n",
       "</table>\n",
       "</div>"
      ],
      "text/plain": [
       "     titleId  ordering                   title region language        types  \\\n",
       "0  tt0000001         6              Carmencita     US      NaN  imdbDisplay   \n",
       "1  tt0000002         7  The Clown and His Dogs     US      NaN          NaN   \n",
       "2  tt0000005        10        Blacksmith Scene     US      NaN  imdbDisplay   \n",
       "3  tt0000005         1     Blacksmithing Scene     US      NaN  alternative   \n",
       "4  tt0000005         6     Blacksmith Scene #1     US      NaN  alternative   \n",
       "\n",
       "              attributes  isOriginalTitle  \n",
       "0                    NaN              0.0  \n",
       "1  literal English title              0.0  \n",
       "2                    NaN              0.0  \n",
       "3                    NaN              0.0  \n",
       "4                    NaN              0.0  "
      ]
     },
     "execution_count": 28,
     "metadata": {},
     "output_type": "execute_result"
    }
   ],
   "source": [
    "# The cleaned dataframes are saved to the Data folder\n",
    "\n",
    "akas.to_csv(\"Data/title_akas-us-only.csv.gz\",compression='gzip',index=False)\n",
    "\n",
    "akas = pd.read_csv(\"Data/title_akas-us-only.csv.gz\", low_memory = False)\n",
    "\n",
    "akas.head()"
   ]
  },
  {
   "cell_type": "code",
   "execution_count": 29,
   "id": "262f1fc8",
   "metadata": {},
   "outputs": [
    {
     "data": {
      "text/html": [
       "<div>\n",
       "<style scoped>\n",
       "    .dataframe tbody tr th:only-of-type {\n",
       "        vertical-align: middle;\n",
       "    }\n",
       "\n",
       "    .dataframe tbody tr th {\n",
       "        vertical-align: top;\n",
       "    }\n",
       "\n",
       "    .dataframe thead th {\n",
       "        text-align: right;\n",
       "    }\n",
       "</style>\n",
       "<table border=\"1\" class=\"dataframe\">\n",
       "  <thead>\n",
       "    <tr style=\"text-align: right;\">\n",
       "      <th></th>\n",
       "      <th>tconst</th>\n",
       "      <th>titleType</th>\n",
       "      <th>primaryTitle</th>\n",
       "      <th>originalTitle</th>\n",
       "      <th>isAdult</th>\n",
       "      <th>startYear</th>\n",
       "      <th>endYear</th>\n",
       "      <th>runtimeMinutes</th>\n",
       "      <th>genres</th>\n",
       "    </tr>\n",
       "  </thead>\n",
       "  <tbody>\n",
       "    <tr>\n",
       "      <th>0</th>\n",
       "      <td>tt0035423</td>\n",
       "      <td>movie</td>\n",
       "      <td>Kate &amp; Leopold</td>\n",
       "      <td>Kate &amp; Leopold</td>\n",
       "      <td>0</td>\n",
       "      <td>2001.0</td>\n",
       "      <td>NaN</td>\n",
       "      <td>118</td>\n",
       "      <td>Comedy,Fantasy,Romance</td>\n",
       "    </tr>\n",
       "    <tr>\n",
       "      <th>1</th>\n",
       "      <td>tt0062336</td>\n",
       "      <td>movie</td>\n",
       "      <td>The Tango of the Widower and Its Distorting Mi...</td>\n",
       "      <td>El tango del viudo y su espejo deformante</td>\n",
       "      <td>0</td>\n",
       "      <td>2020.0</td>\n",
       "      <td>NaN</td>\n",
       "      <td>70</td>\n",
       "      <td>Drama</td>\n",
       "    </tr>\n",
       "    <tr>\n",
       "      <th>2</th>\n",
       "      <td>tt0068865</td>\n",
       "      <td>movie</td>\n",
       "      <td>Lives of Performers</td>\n",
       "      <td>Lives of Performers</td>\n",
       "      <td>0</td>\n",
       "      <td>2016.0</td>\n",
       "      <td>NaN</td>\n",
       "      <td>90</td>\n",
       "      <td>Drama</td>\n",
       "    </tr>\n",
       "    <tr>\n",
       "      <th>3</th>\n",
       "      <td>tt0069049</td>\n",
       "      <td>movie</td>\n",
       "      <td>The Other Side of the Wind</td>\n",
       "      <td>The Other Side of the Wind</td>\n",
       "      <td>0</td>\n",
       "      <td>2018.0</td>\n",
       "      <td>NaN</td>\n",
       "      <td>122</td>\n",
       "      <td>Drama</td>\n",
       "    </tr>\n",
       "    <tr>\n",
       "      <th>4</th>\n",
       "      <td>tt0088751</td>\n",
       "      <td>movie</td>\n",
       "      <td>The Naked Monster</td>\n",
       "      <td>The Naked Monster</td>\n",
       "      <td>0</td>\n",
       "      <td>2005.0</td>\n",
       "      <td>NaN</td>\n",
       "      <td>100</td>\n",
       "      <td>Comedy,Horror,Sci-Fi</td>\n",
       "    </tr>\n",
       "  </tbody>\n",
       "</table>\n",
       "</div>"
      ],
      "text/plain": [
       "      tconst titleType                                       primaryTitle  \\\n",
       "0  tt0035423     movie                                     Kate & Leopold   \n",
       "1  tt0062336     movie  The Tango of the Widower and Its Distorting Mi...   \n",
       "2  tt0068865     movie                                Lives of Performers   \n",
       "3  tt0069049     movie                         The Other Side of the Wind   \n",
       "4  tt0088751     movie                                  The Naked Monster   \n",
       "\n",
       "                               originalTitle  isAdult  startYear  endYear  \\\n",
       "0                             Kate & Leopold        0     2001.0      NaN   \n",
       "1  El tango del viudo y su espejo deformante        0     2020.0      NaN   \n",
       "2                        Lives of Performers        0     2016.0      NaN   \n",
       "3                 The Other Side of the Wind        0     2018.0      NaN   \n",
       "4                          The Naked Monster        0     2005.0      NaN   \n",
       "\n",
       "   runtimeMinutes                  genres  \n",
       "0             118  Comedy,Fantasy,Romance  \n",
       "1              70                   Drama  \n",
       "2              90                   Drama  \n",
       "3             122                   Drama  \n",
       "4             100    Comedy,Horror,Sci-Fi  "
      ]
     },
     "execution_count": 29,
     "metadata": {},
     "output_type": "execute_result"
    }
   ],
   "source": [
    "basics.to_csv(\"Data/title_basics.csv.gz\",compression='gzip',index=False)\n",
    "\n",
    "basics = pd.read_csv(\"Data/title_basics.csv.gz\", low_memory = False)\n",
    "\n",
    "basics.head()"
   ]
  },
  {
   "cell_type": "code",
   "execution_count": 30,
   "id": "d02ca564",
   "metadata": {},
   "outputs": [
    {
     "data": {
      "text/html": [
       "<div>\n",
       "<style scoped>\n",
       "    .dataframe tbody tr th:only-of-type {\n",
       "        vertical-align: middle;\n",
       "    }\n",
       "\n",
       "    .dataframe tbody tr th {\n",
       "        vertical-align: top;\n",
       "    }\n",
       "\n",
       "    .dataframe thead th {\n",
       "        text-align: right;\n",
       "    }\n",
       "</style>\n",
       "<table border=\"1\" class=\"dataframe\">\n",
       "  <thead>\n",
       "    <tr style=\"text-align: right;\">\n",
       "      <th></th>\n",
       "      <th>tconst</th>\n",
       "      <th>averageRating</th>\n",
       "      <th>numVotes</th>\n",
       "    </tr>\n",
       "  </thead>\n",
       "  <tbody>\n",
       "    <tr>\n",
       "      <th>0</th>\n",
       "      <td>tt0035423</td>\n",
       "      <td>6.4</td>\n",
       "      <td>87565</td>\n",
       "    </tr>\n",
       "    <tr>\n",
       "      <th>1</th>\n",
       "      <td>tt0062336</td>\n",
       "      <td>6.4</td>\n",
       "      <td>180</td>\n",
       "    </tr>\n",
       "    <tr>\n",
       "      <th>2</th>\n",
       "      <td>tt0068865</td>\n",
       "      <td>5.4</td>\n",
       "      <td>74</td>\n",
       "    </tr>\n",
       "    <tr>\n",
       "      <th>3</th>\n",
       "      <td>tt0069049</td>\n",
       "      <td>6.7</td>\n",
       "      <td>7830</td>\n",
       "    </tr>\n",
       "    <tr>\n",
       "      <th>4</th>\n",
       "      <td>tt0088751</td>\n",
       "      <td>5.2</td>\n",
       "      <td>340</td>\n",
       "    </tr>\n",
       "  </tbody>\n",
       "</table>\n",
       "</div>"
      ],
      "text/plain": [
       "      tconst  averageRating  numVotes\n",
       "0  tt0035423            6.4     87565\n",
       "1  tt0062336            6.4       180\n",
       "2  tt0068865            5.4        74\n",
       "3  tt0069049            6.7      7830\n",
       "4  tt0088751            5.2       340"
      ]
     },
     "execution_count": 30,
     "metadata": {},
     "output_type": "execute_result"
    }
   ],
   "source": [
    "ratings.to_csv(\"Data/title_ratings.csv.gz\",compression='gzip',index=False)\n",
    "\n",
    "ratings = pd.read_csv(\"Data/title_ratings.csv.gz\", low_memory = False)\n",
    "\n",
    "ratings.head()"
   ]
  }
 ],
 "metadata": {
  "kernelspec": {
   "display_name": "Python (dojo-env)",
   "language": "python",
   "name": "dojo-env"
  },
  "language_info": {
   "codemirror_mode": {
    "name": "ipython",
    "version": 3
   },
   "file_extension": ".py",
   "mimetype": "text/x-python",
   "name": "python",
   "nbconvert_exporter": "python",
   "pygments_lexer": "ipython3",
   "version": "3.11.3"
  },
  "toc": {
   "base_numbering": 1,
   "nav_menu": {},
   "number_sections": false,
   "sideBar": true,
   "skip_h1_title": false,
   "title_cell": "Table of Contents",
   "title_sidebar": "Contents",
   "toc_cell": false,
   "toc_position": {},
   "toc_section_display": true,
   "toc_window_display": false
  }
 },
 "nbformat": 4,
 "nbformat_minor": 5
}
